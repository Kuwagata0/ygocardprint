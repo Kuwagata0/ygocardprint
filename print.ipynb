{
 "cells": [
  {
   "cell_type": "markdown",
   "metadata": {},
   "source": [
    "# 游戏王卡牌打印\n",
    "图源修改：将高清日语卡图下载到本地 <br />\n",
    "将需要打印的卡组ydk放在<code>\\deck</code>下 <br />\n",
    "地址：https://ygobbs.com/t/%E6%B8%B8%E6%88%8F%E7%8E%8B%E9%AB%98%E6%B8%85%E6%97%A5%E8%AF%AD%E5%8D%A1%E5%9B%BE/143511"
   ]
  },
  {
   "cell_type": "code",
   "execution_count": 36,
   "metadata": {},
   "outputs": [],
   "source": [
    "import os\n",
    "from reportlab.pdfgen import canvas\n",
    "from reportlab.platypus import SimpleDocTemplate\n",
    "from reportlab.lib.units import mm"
   ]
  },
  {
   "cell_type": "code",
   "execution_count": 37,
   "metadata": {},
   "outputs": [],
   "source": [
    "# path = 'E:\\MyCardLibrary\\ygopro\\pics'\n",
    "# path = 'localpics\\\\322x470'\n",
    "path = 'localpics\\\\484x700'\n",
    "exp_path = 'E:\\MyCardLibrary\\ygopro\\expansions\\pics'\n",
    "\n",
    "if not (os.path.isdir(path)):\n",
    "    print(path + ': 路径不存在')\n",
    "if not (os.path.isdir(exp_path)):\n",
    "    print(path + ': 先行卡路径不存在')"
   ]
  },
  {
   "cell_type": "code",
   "execution_count": 38,
   "metadata": {},
   "outputs": [
    {
     "name": "stdout",
     "output_type": "stream",
     "text": [
      "破械于贝尔\n"
     ]
    }
   ],
   "source": [
    "deck = '破械于贝尔.ydk'\n",
    "deckname = deck[:-4]\n",
    "print(deckname)\n",
    "\n",
    "deckpath = 'D:\\ygocardprt\\deck\\\\' + deck\n",
    "if not (os.path.exists(deckpath)):\n",
    "    print(deck + ': 卡组不存在')"
   ]
  },
  {
   "cell_type": "code",
   "execution_count": 39,
   "metadata": {},
   "outputs": [],
   "source": [
    "maincardlist = []\n",
    "extracardlist = []\n",
    "sidecardlist = []\n",
    "\n",
    "with open(deckpath,mode='r') as f:\n",
    "    flag = 0\n",
    "    for item in f.readlines():\n",
    "        item = item.strip()\n",
    "\n",
    "        if item == '#main' :\n",
    "            flag = 1\n",
    "            continue\n",
    "        elif item == '#extra' :\n",
    "            flag = 2\n",
    "            continue\n",
    "        elif item == '!side' :\n",
    "            flag = 3\n",
    "            continue\n",
    "        elif item[0] == '#' :\n",
    "            continue\n",
    "        \n",
    "        if flag == 1 :\n",
    "            maincardlist.append(item)\n",
    "        elif flag == 2 :\n",
    "            extracardlist.append(item)    \n",
    "        elif flag == 3 :\n",
    "            sidecardlist.append(item)\n",
    "        else :\n",
    "            continue\n",
    "    f.close()"
   ]
  },
  {
   "cell_type": "code",
   "execution_count": 40,
   "metadata": {},
   "outputs": [
    {
     "name": "stdout",
     "output_type": "stream",
     "text": [
      "0\n"
     ]
    }
   ],
   "source": [
    "\n",
    "nulllist = []\n",
    "count = 0\n",
    "cvas = canvas.Canvas('output\\\\' + deckname + '_output.pdf')\n",
    "index = 0\n",
    "image_width = 59 * mm\n",
    "image_height = 86 * mm\n",
    "cvas.setPageSize((210 * mm, 297 * mm))\n",
    "\n",
    "cardlist = []\n",
    "cardlist.extend(maincardlist)\n",
    "cardlist.extend(extracardlist)\n",
    "cardlist.extend(sidecardlist)\n",
    "for item in cardlist:\n",
    "    \n",
    "    name = item.lstrip('0')\n",
    "    imagename = name + '.jpg'\n",
    "    if os.path.exists(path + '\\\\' + imagename) :\n",
    "        imgpath = path + '\\\\' + imagename\n",
    "    elif os.path.exists(exp_path + '\\\\' + imagename) :\n",
    "        imgpath = exp_path + '\\\\' + imagename\n",
    "    else:\n",
    "        nulllist.append(item)\n",
    "        count += 1\n",
    "        continue\n",
    "    cvas.drawImage(imgpath, 16 * mm + image_width * (int)((index % 9) / 3), 19 * mm + image_height * (index % 3), image_width, image_height)\n",
    "    index += 1\n",
    "    if (index % 9) == 0:\n",
    "        cvas.showPage()\n",
    "        cvas._startPage()\n",
    "\n",
    "\n",
    "print(count)\n",
    "cvas.save()"
   ]
  }
 ],
 "metadata": {
  "kernelspec": {
   "display_name": "Python 3",
   "language": "python",
   "name": "python3"
  },
  "language_info": {
   "codemirror_mode": {
    "name": "ipython",
    "version": 3
   },
   "file_extension": ".py",
   "mimetype": "text/x-python",
   "name": "python",
   "nbconvert_exporter": "python",
   "pygments_lexer": "ipython3",
   "version": "3.10.9"
  }
 },
 "nbformat": 4,
 "nbformat_minor": 2
}
